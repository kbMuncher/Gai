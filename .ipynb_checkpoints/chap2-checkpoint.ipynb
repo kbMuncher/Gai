{
 "cells": [
  {
   "cell_type": "code",
   "execution_count": 1,
   "id": "fa424307-5860-4efa-ac06-ff071451a14f",
   "metadata": {},
   "outputs": [],
   "source": [
    "import torch\n",
    "import torch.nn as nn\n",
    "import torchvision\n",
    "import torchvision.transforms as T"
   ]
  },
  {
   "cell_type": "code",
   "execution_count": 2,
   "id": "e0c4b8e8-8dae-4c84-b483-bc2373f818fb",
   "metadata": {},
   "outputs": [],
   "source": [
    "heights = [189, 170, 189, 163, 183, 171, 185,\n",
    "168, 173, 183, 173, 173, 175, 178,\n",
    "183, 193, 178, 173, 174, 183, 183,\n",
    "180, 168, 180, 170, 178, 182, 180,\n",
    "183, 178, 182, 188, 175, 179, 183,\n",
    "193, 182, 183, 177, 185, 188, 188,\n",
    "182, 185, 191, 183]"
   ]
  },
  {
   "cell_type": "code",
   "execution_count": 3,
   "id": "9f2d2bb8-65c8-441b-b403-2383e54b152c",
   "metadata": {},
   "outputs": [
    {
     "data": {
      "text/plain": [
       "180.065"
      ]
     },
     "execution_count": 3,
     "metadata": {},
     "output_type": "execute_result"
    }
   ],
   "source": [
    "avg_heights = sum(heights)/len(heights)\n",
    "round(avg_heights,3)"
   ]
  },
  {
   "cell_type": "code",
   "execution_count": 4,
   "id": "28bcaa12-1e5b-4aaf-b89a-06e34d302ef5",
   "metadata": {},
   "outputs": [
    {
     "data": {
      "text/plain": [
       "tensor([189., 170., 189., 163., 183., 171., 185., 168., 173., 183., 173., 173.,\n",
       "        175., 178., 183., 193., 178., 173., 174., 183., 183., 180., 168., 180.,\n",
       "        170., 178., 182., 180., 183., 178., 182., 188., 175., 179., 183., 193.,\n",
       "        182., 183., 177., 185., 188., 188., 182., 185., 191., 183.],\n",
       "       dtype=torch.float64)"
      ]
     },
     "execution_count": 4,
     "metadata": {},
     "output_type": "execute_result"
    }
   ],
   "source": [
    "heights_tensor = torch.tensor(heights,dtype=torch.double)\n",
    "heights_tensor"
   ]
  },
  {
   "cell_type": "markdown",
   "id": "7b90f04a-ed13-4a10-859d-b71c327e2dbd",
   "metadata": {},
   "source": [
    "# Exercise 2.1\n",
    "Use two different methods to convert the Python list [5, 8, 10] into a PyTorch tensor\n",
    "with 64-bit floating-point numbers in it. Consult the third row in table 2.1 for this question."
   ]
  },
  {
   "cell_type": "code",
   "execution_count": 5,
   "id": "39e47f95-03d9-4c06-a26d-9721f50a1721",
   "metadata": {},
   "outputs": [
    {
     "data": {
      "text/plain": [
       "(tensor([ 5.,  8., 10.], dtype=torch.float64),\n",
       " tensor([ 5.,  8., 10.], dtype=torch.float64))"
      ]
     },
     "execution_count": 5,
     "metadata": {},
     "output_type": "execute_result"
    }
   ],
   "source": [
    "ls = [5,8,10]\n",
    "#method1\n",
    "tensor1 = torch.DoubleTensor(ls)\n",
    "#method2\n",
    "tensor2 = torch.tensor(ls,dtype=torch.double)\n",
    "\n",
    "tensor1,tensor2"
   ]
  },
  {
   "cell_type": "code",
   "execution_count": 6,
   "id": "659ac72a-1c75-4e0c-9cc3-ed3e409e0c61",
   "metadata": {},
   "outputs": [
    {
     "data": {
      "text/plain": [
       "tensor([[0., 0., 0.],\n",
       "        [0., 0., 0.]])"
      ]
     },
     "execution_count": 6,
     "metadata": {},
     "output_type": "execute_result"
    }
   ],
   "source": [
    "tensor1=torch.zeros((2,3))\n",
    "tensor1"
   ]
  },
  {
   "cell_type": "code",
   "execution_count": 7,
   "id": "066b5425-af23-43fc-bd01-509bdfaf53b1",
   "metadata": {},
   "outputs": [
    {
     "data": {
      "text/plain": [
       "tensor([[[1., 1., 1., 1., 1.],\n",
       "         [1., 1., 1., 1., 1.],\n",
       "         [1., 1., 1., 1., 1.],\n",
       "         [1., 1., 1., 1., 1.]]])"
      ]
     },
     "execution_count": 7,
     "metadata": {},
     "output_type": "execute_result"
    }
   ],
   "source": [
    "tensor2= torch.ones(1,4,5)\n",
    "tensor2"
   ]
  },
  {
   "cell_type": "markdown",
   "id": "9f1dd452-22c1-45a2-91c2-ae549b0966b4",
   "metadata": {},
   "source": [
    "# Exercise 2.2\n",
    "Create a 3D PyTorch tensor with values 0 in it. Make the shape of the tensor (2, 3, 4)."
   ]
  },
  {
   "cell_type": "code",
   "execution_count": 8,
   "id": "1ec0a94c-4ab8-4330-ae71-b6eb48812af2",
   "metadata": {},
   "outputs": [
    {
     "data": {
      "text/plain": [
       "tensor([[[0., 0., 0., 0.],\n",
       "         [0., 0., 0., 0.],\n",
       "         [0., 0., 0., 0.]],\n",
       "\n",
       "        [[0., 0., 0., 0.],\n",
       "         [0., 0., 0., 0.],\n",
       "         [0., 0., 0., 0.]]])"
      ]
     },
     "execution_count": 8,
     "metadata": {},
     "output_type": "execute_result"
    }
   ],
   "source": [
    "_3d_zero_tensor = torch.zeros((2,3,4))\n",
    "_3d_zero_tensor"
   ]
  },
  {
   "cell_type": "code",
   "execution_count": 9,
   "id": "b4710231-060a-43d5-9cf3-5467eb2e8a4f",
   "metadata": {},
   "outputs": [
    {
     "data": {
      "text/plain": [
       "tensor([0., 1., 2., 3., 4., 5., 6., 7., 8., 9.], dtype=torch.float64)"
      ]
     },
     "execution_count": 9,
     "metadata": {},
     "output_type": "execute_result"
    }
   ],
   "source": [
    "#numpy \n",
    "import numpy as np\n",
    "\n",
    "np_arr = np.array(range(10))\n",
    "pt_tensor = torch.tensor(np_arr,dtype=torch.float64)\n",
    "pt_tensor"
   ]
  },
  {
   "cell_type": "markdown",
   "id": "0d805f40-1ef6-492a-87b2-d82107591c5b",
   "metadata": {},
   "source": [
    "# 2.1.2\n",
    "## Index and slice Pytorch tensors"
   ]
  },
  {
   "cell_type": "code",
   "execution_count": 10,
   "id": "d4ea6f5b-4aaf-433f-bfba-4d4449b696ec",
   "metadata": {},
   "outputs": [],
   "source": [
    "# same old forward/backward slicing\n"
   ]
  },
  {
   "cell_type": "markdown",
   "id": "2d8150b6-5105-49d6-97c5-4bc282c125d4",
   "metadata": {},
   "source": [
    "### Exercise 2.3\n",
    "Use slicing to obtain the heights of the first five U.S. presidents in the tensor\n",
    "heights_tensor."
   ]
  },
  {
   "cell_type": "code",
   "execution_count": 11,
   "id": "c7367927-0841-4fcd-835d-d1868c571a13",
   "metadata": {},
   "outputs": [
    {
     "name": "stdout",
     "output_type": "stream",
     "text": [
      "tensor([189., 170., 189., 163., 183.], dtype=torch.float64)\n"
     ]
    }
   ],
   "source": [
    "print(heights_tensor[:5])"
   ]
  },
  {
   "cell_type": "markdown",
   "id": "61ca1bb0-b59b-4c19-89e4-5c985222180d",
   "metadata": {
    "jp-MarkdownHeadingCollapsed": true
   },
   "source": [
    "## Tensor shapes"
   ]
  },
  {
   "cell_type": "code",
   "execution_count": 12,
   "id": "7101cf1f-65e3-4767-9bbd-b892a99b7a99",
   "metadata": {},
   "outputs": [
    {
     "name": "stdout",
     "output_type": "stream",
     "text": [
      "torch.Size([46])\n"
     ]
    }
   ],
   "source": [
    "print(heights_tensor.shape)"
   ]
  },
  {
   "cell_type": "code",
   "execution_count": 13,
   "id": "6fab84e8-7edb-4a4b-a58c-dc31b64b6657",
   "metadata": {},
   "outputs": [
    {
     "name": "stdout",
     "output_type": "stream",
     "text": [
      "Shape of combined tensor: torch.Size([92]) and reshaped tensor has dim: torch.Size([2, 46])\n"
     ]
    }
   ],
   "source": [
    "# converting to feets and making two diff tensors \n",
    "heights_tensor_feet = heights_tensor/30.48\n",
    "heights_combined = torch.cat([heights_tensor,heights_tensor_feet],dim=0)\n",
    "heights_reshaped = heights_combined.reshape(2,46) # reshape only works on combos of n*m that are factors of original shape\n",
    "\n",
    "print(f\"Shape of combined tensor: {heights_combined.shape} and reshaped tensor has dim: {heights_reshaped.shape}\")"
   ]
  },
  {
   "cell_type": "markdown",
   "id": "160f522f-3f33-42c8-b51d-325ec216599c",
   "metadata": {},
   "source": [
    "### Exercise 2.4\n",
    "Use indexing to obtain the height of Joe Biden in the tensor heights_reshaped in\n",
    "centimeters"
   ]
  },
  {
   "cell_type": "code",
   "execution_count": 14,
   "id": "2cd58224-8879-484c-bc03-66faa84cbd16",
   "metadata": {},
   "outputs": [
    {
     "name": "stdout",
     "output_type": "stream",
     "text": [
      "Height of BIDEN in cms: 183.0 and in feets:6.003937007874016\n"
     ]
    }
   ],
   "source": [
    "# finding BIden's height in cm and feets \n",
    "print(f\"Height of BIDEN in cms: {heights_reshaped[0,-1]} and in feets:{(heights_reshaped[1,-1])}\")"
   ]
  },
  {
   "cell_type": "markdown",
   "id": "3897423c-2046-4f4e-bf75-2ffa1e61fd2e",
   "metadata": {},
   "source": [
    "## Mathematical operations on PyTorch tensors"
   ]
  },
  {
   "cell_type": "code",
   "execution_count": 15,
   "id": "96d2b346-a9db-4741-8e4a-564419bc7514",
   "metadata": {},
   "outputs": [
    {
     "name": "stdout",
     "output_type": "stream",
     "text": [
      "Median height of president is tensor(182., dtype=torch.float64)\n",
      "Median height of president in feet is tensor(5.9711, dtype=torch.float64)\n",
      "In combined way: torch.return_types.median(\n",
      "values=tensor([182.0000,   5.9711], dtype=torch.float64),\n",
      "indices=tensor([26, 26]))\n"
     ]
    }
   ],
   "source": [
    "# median \n",
    "print(\"Median height of president is\", heights_tensor.median())\n",
    "print(\"Median height of president in feet is\",  heights_tensor_feet.median())\n",
    "\n",
    "print(f\"In combined way: {torch.median(heights_reshaped,dim=1)}\")"
   ]
  },
  {
   "cell_type": "code",
   "execution_count": 16,
   "id": "914c77c7-b1a2-4c70-b6ff-cf5cdcd809b9",
   "metadata": {},
   "outputs": [
    {
     "name": "stdout",
     "output_type": "stream",
     "text": [
      "tensor([180.0652,   5.9077], dtype=torch.float64)\n"
     ]
    }
   ],
   "source": [
    "print(torch.mean(heights_reshaped,dim=1))"
   ]
  },
  {
   "cell_type": "markdown",
   "id": "56ec7b23-7ee4-44e6-a255-d92a40a28149",
   "metadata": {},
   "source": [
    "### Exercise 2.5\n",
    "Use the torch.min() method to find out the index and height of the shortest U.S.\n",
    "president."
   ]
  },
  {
   "cell_type": "code",
   "execution_count": 17,
   "id": "bcd54f24-8abc-4229-9084-5264e93e0bf0",
   "metadata": {},
   "outputs": [
    {
     "name": "stdout",
     "output_type": "stream",
     "text": [
      "The shortest president is: 4 and his height is: 163.0\n"
     ]
    }
   ],
   "source": [
    " min_height,index=torch.min(heights_reshaped[0,:],dim=0)\n",
    "\n",
    "print(f\"The shortest president is: {index+1} and his height is: {min_height}\")"
   ]
  },
  {
   "cell_type": "markdown",
   "id": "7fb67957-0ff2-40c6-9edf-a3e1069e2e06",
   "metadata": {},
   "source": [
    "# FashionMNIST PROJECT"
   ]
  },
  {
   "cell_type": "code",
   "execution_count": 18,
   "id": "1af5d68c-d242-452a-bb32-24e788c71cd6",
   "metadata": {},
   "outputs": [],
   "source": [
    "torch.manual_seed(42)\n",
    "transform = T.Compose([\n",
    "    T.ToTensor(), # converts pixel to tensors\n",
    "    T.Normalize([0.5],[0.5]) # normalise the values to range [-1,1]\n",
    "])"
   ]
  },
  {
   "cell_type": "code",
   "execution_count": 19,
   "id": "8acbe06a-f817-437e-a178-2dc928749de1",
   "metadata": {},
   "outputs": [],
   "source": [
    "train_set = torchvision.datasets.FashionMNIST(root=\".\",train=True,download=True,transform=transform)\n",
    "test_set = torchvision.datasets.FashionMNIST(root=\".\",train=False,download=True,transform=transform)"
   ]
  },
  {
   "cell_type": "code",
   "execution_count": 20,
   "id": "9647dab6-534f-4148-ac51-32a5b5444185",
   "metadata": {},
   "outputs": [
    {
     "name": "stdout",
     "output_type": "stream",
     "text": [
      "(tensor([[[-1.0000, -1.0000, -1.0000, -1.0000, -1.0000, -0.9922, -1.0000,\n",
      "          -1.0000, -1.0000, -1.0000, -0.6784,  0.4745, -0.1922, -0.5765,\n",
      "          -0.6235, -0.6627, -0.3176,  0.3176,  0.0431, -0.8745, -1.0000,\n",
      "          -1.0000, -1.0000, -1.0000, -1.0000, -1.0000, -1.0000, -1.0000],\n",
      "         [-1.0000, -1.0000, -1.0000, -0.9922, -1.0000, -1.0000, -1.0000,\n",
      "          -0.6157,  0.0667,  0.7176,  0.6941,  0.7882,  0.8510,  1.0000,\n",
      "           1.0000,  1.0000,  1.0000,  0.7020,  0.6863,  0.9922,  0.8118,\n",
      "           0.2549, -0.6471, -1.0000, -1.0000, -1.0000, -1.0000, -1.0000],\n",
      "         [-1.0000, -1.0000, -1.0000, -1.0000, -1.0000, -0.8902,  0.3804,\n",
      "           0.7412,  0.7569,  0.6627,  0.5922,  0.5529,  0.5373,  0.5686,\n",
      "           0.6863,  0.6000,  0.5843,  0.5765,  0.5765,  0.5765,  0.6392,\n",
      "           0.7098,  0.7569,  0.2863, -1.0000, -1.0000, -1.0000, -1.0000],\n",
      "         [-1.0000, -1.0000, -1.0000, -1.0000, -1.0000,  0.4745,  0.7176,\n",
      "           0.5686,  0.5529,  0.5843,  0.5529,  0.5608,  0.5608,  0.5765,\n",
      "           0.5373,  0.5529,  0.5529,  0.5686,  0.5686,  0.5686,  0.5686,\n",
      "           0.5765,  0.5686,  0.7647, -0.6784, -1.0000, -1.0000, -1.0000],\n",
      "         [-1.0000, -1.0000, -1.0000, -1.0000, -0.6000,  0.7176,  0.5608,\n",
      "           0.5922,  0.5922,  0.6627,  0.8667,  0.9451,  0.9608,  0.9216,\n",
      "           0.9529,  0.9294,  0.9373,  0.9765,  0.9451,  0.8431,  0.6235,\n",
      "           0.5922,  0.5922,  0.7412,  0.0980, -1.0000, -1.0000, -1.0000],\n",
      "         [-1.0000, -1.0000, -1.0000, -1.0000, -0.0902,  0.7725,  0.6157,\n",
      "           0.6000,  0.6235,  0.6000, -0.2078, -0.4118, -0.6314, -0.4275,\n",
      "          -0.6235, -0.6078, -0.6471, -0.6000, -0.5059, -0.1137,  0.7412,\n",
      "           0.5843,  0.6157,  0.7255,  0.7569, -1.0000, -1.0000, -1.0000],\n",
      "         [-1.0000, -1.0000, -1.0000, -1.0000,  0.5686,  0.7412,  0.6392,\n",
      "           0.5922,  0.6863,  0.5686, -1.0000, -0.4510, -0.2314, -1.0000,\n",
      "          -0.1922, -0.5373, -0.4667, -0.4431, -0.6157, -1.0000,  0.7176,\n",
      "           0.6157,  0.6784,  0.6471,  0.9608, -0.7020, -1.0000, -1.0000],\n",
      "         [-1.0000, -1.0000, -1.0000, -1.0000,  0.9373,  0.7098,  0.6627,\n",
      "           0.6471,  0.6863,  0.6784, -1.0000,  0.9922,  0.9059,  0.0902,\n",
      "           1.0000,  0.3647,  0.9686,  1.0000,  0.6078, -1.0000,  0.6863,\n",
      "           0.7020,  0.6784,  0.6314,  0.7255, -0.2549, -1.0000, -1.0000],\n",
      "         [-1.0000, -1.0000, -1.0000, -0.6471,  0.7725,  0.6784,  0.6784,\n",
      "           0.6863,  0.7569,  0.6078, -1.0000, -0.6706, -0.7255, -0.5294,\n",
      "          -0.8745, -0.8667, -0.9059, -0.8980, -0.4510, -1.0000,  0.4824,\n",
      "           0.6941,  0.6627,  0.6157,  0.6627,  0.2235, -1.0000, -1.0000],\n",
      "         [-1.0000, -1.0000, -1.0000,  0.2863,  0.8431,  0.6784,  0.6549,\n",
      "           0.7255,  0.6941,  0.5765, -0.5922, -0.4431, -0.3020, -0.2627,\n",
      "          -0.3490, -0.3882, -0.4510, -0.4039, -0.2784, -0.3176,  0.6157,\n",
      "           0.6235,  0.7412,  0.6706,  0.7176,  0.6314, -1.0000, -1.0000],\n",
      "         [-1.0000, -1.0000, -1.0000, -0.1686,  0.4667,  0.7490,  0.8588,\n",
      "           0.9451,  0.6549,  0.5529,  0.9765,  0.9608,  0.9451,  0.9216,\n",
      "           0.9451,  0.9765,  0.9843,  0.9608,  0.9765,  0.8745,  0.5765,\n",
      "           0.6627,  0.7647,  0.6863,  0.5137, -0.1137, -1.0000, -1.0000],\n",
      "         [-1.0000, -1.0000, -1.0000, -1.0000, -1.0000, -0.8667, -0.5765,\n",
      "           0.2471,  0.7412,  0.5137,  0.6314,  0.5059,  0.5451,  0.5686,\n",
      "           0.5686,  0.5686,  0.5686,  0.5765,  0.5922,  0.5294,  0.6471,\n",
      "           0.2941, -1.0000, -1.0000, -1.0000, -1.0000, -1.0000, -1.0000],\n",
      "         [-1.0000, -1.0000, -1.0000, -1.0000, -1.0000, -1.0000, -1.0000,\n",
      "          -0.6314,  0.7647,  0.5059,  0.6784,  0.5922,  0.6157,  0.6000,\n",
      "           0.6000,  0.6078,  0.6157,  0.6000,  0.6627,  0.5451,  0.7098,\n",
      "          -0.1608, -1.0000, -1.0000, -1.0000, -1.0000, -1.0000, -1.0000],\n",
      "         [-1.0000, -1.0000, -1.0000, -1.0000, -0.9922, -0.9529, -1.0000,\n",
      "          -0.6392,  0.6627,  0.5294,  0.6627,  0.5843,  0.6157,  0.6078,\n",
      "           0.6000,  0.6078,  0.6157,  0.6000,  0.6627,  0.5686,  0.7098,\n",
      "          -0.2863, -1.0000, -0.9765, -0.9922, -1.0000, -1.0000, -1.0000],\n",
      "         [-1.0000, -1.0000, -1.0000, -1.0000, -1.0000, -0.9922, -1.0000,\n",
      "          -0.9137,  0.5451,  0.5608,  0.6078,  0.5843,  0.6078,  0.6157,\n",
      "           0.6000,  0.6078,  0.6235,  0.6000,  0.6078,  0.6078,  0.7098,\n",
      "          -0.3961, -1.0000, -0.9608, -1.0000, -1.0000, -1.0000, -1.0000],\n",
      "         [-1.0000, -1.0000, -1.0000, -1.0000, -1.0000, -0.9765, -1.0000,\n",
      "          -0.9843,  0.4980,  0.5529,  0.5765,  0.6078,  0.6157,  0.6078,\n",
      "           0.6078,  0.6157,  0.6392,  0.6157,  0.5608,  0.6392,  0.7176,\n",
      "          -0.4196, -1.0000, -0.9608, -1.0000, -1.0000, -1.0000, -1.0000],\n",
      "         [-1.0000, -1.0000, -1.0000, -1.0000, -1.0000, -0.9843, -1.0000,\n",
      "          -1.0000,  0.4745,  0.5451,  0.5686,  0.6235,  0.6235,  0.6000,\n",
      "           0.6235,  0.6235,  0.6471,  0.6314,  0.5529,  0.6235,  0.7333,\n",
      "          -0.4353, -1.0000, -0.9686, -1.0000, -1.0000, -1.0000, -1.0000],\n",
      "         [-1.0000, -1.0000, -1.0000, -1.0000, -1.0000, -0.9843, -1.0000,\n",
      "          -1.0000,  0.6863,  0.5529,  0.5922,  0.6157,  0.6314,  0.6078,\n",
      "           0.6235,  0.6235,  0.6471,  0.6314,  0.5686,  0.5843,  0.7412,\n",
      "          -0.4118, -1.0000, -0.9686, -1.0000, -1.0000, -1.0000, -1.0000],\n",
      "         [-1.0000, -1.0000, -1.0000, -1.0000, -1.0000, -0.9922, -1.0000,\n",
      "          -1.0000,  0.6627,  0.5529,  0.6392,  0.6157,  0.6392,  0.6157,\n",
      "           0.6314,  0.6235,  0.6549,  0.6157,  0.6078,  0.5529,  0.7333,\n",
      "          -0.3725, -1.0000, -0.9765, -1.0000, -1.0000, -1.0000, -1.0000],\n",
      "         [-1.0000, -1.0000, -1.0000, -1.0000, -1.0000, -0.9922, -1.0000,\n",
      "          -1.0000,  0.6000,  0.5765,  0.6078,  0.6314,  0.6235,  0.6078,\n",
      "           0.6549,  0.6078,  0.6471,  0.6471,  0.6392,  0.5294,  0.7333,\n",
      "          -0.2471, -1.0000, -0.9765, -1.0000, -1.0000, -1.0000, -1.0000],\n",
      "         [-1.0000, -1.0000, -1.0000, -1.0000, -1.0000, -0.9922, -1.0000,\n",
      "          -1.0000,  0.5843,  0.5765,  0.6078,  0.6392,  0.6235,  0.6078,\n",
      "           0.6706,  0.6157,  0.6471,  0.6392,  0.6471,  0.5216,  0.7020,\n",
      "          -0.1765, -1.0000, -0.9843, -1.0000, -1.0000, -1.0000, -1.0000],\n",
      "         [-1.0000, -1.0000, -1.0000, -1.0000, -1.0000, -0.9922, -1.0000,\n",
      "          -1.0000,  0.6000,  0.6000,  0.6078,  0.6314,  0.6235,  0.6078,\n",
      "           0.6863,  0.6235,  0.6471,  0.6314,  0.6549,  0.5137,  0.6706,\n",
      "          -0.0980, -1.0000, -0.9843, -1.0000, -1.0000, -1.0000, -1.0000],\n",
      "         [-1.0000, -1.0000, -1.0000, -1.0000, -1.0000, -1.0000, -1.0000,\n",
      "          -1.0000,  0.6000,  0.6235,  0.6235,  0.6314,  0.6157,  0.6157,\n",
      "           0.6863,  0.6471,  0.6471,  0.6235,  0.6627,  0.5294,  0.6471,\n",
      "          -0.0745, -1.0000, -0.9843, -1.0000, -1.0000, -1.0000, -1.0000],\n",
      "         [-1.0000, -1.0000, -1.0000, -1.0000, -1.0000, -0.9922, -1.0000,\n",
      "          -1.0000,  0.5529,  0.6314,  0.6314,  0.6314,  0.6000,  0.6235,\n",
      "           0.6627,  0.6627,  0.6471,  0.6235,  0.6549,  0.5373,  0.6235,\n",
      "          -0.0510, -1.0000, -0.9922, -1.0000, -1.0000, -1.0000, -1.0000],\n",
      "         [-1.0000, -1.0000, -1.0000, -1.0000, -1.0000, -0.9922, -1.0000,\n",
      "          -1.0000,  0.5529,  0.6471,  0.6235,  0.6314,  0.6157,  0.6392,\n",
      "           0.6706,  0.6627,  0.6549,  0.6235,  0.6471,  0.5451,  0.6235,\n",
      "          -0.0275, -1.0000, -0.9922, -1.0000, -1.0000, -1.0000, -1.0000],\n",
      "         [-1.0000, -1.0000, -1.0000, -1.0000, -1.0000, -1.0000, -1.0000,\n",
      "          -1.0000,  0.3490,  0.6471,  0.5922,  0.5765,  0.5608,  0.6000,\n",
      "           0.6235,  0.6078,  0.6000,  0.5765,  0.6078,  0.5451,  0.6157,\n",
      "          -0.0039, -1.0000, -1.0000, -1.0000, -1.0000, -1.0000, -1.0000],\n",
      "         [-1.0000, -1.0000, -1.0000, -1.0000, -1.0000, -1.0000, -1.0000,\n",
      "          -1.0000,  0.4745,  0.7333,  0.6784,  0.8353,  0.8510,  0.8667,\n",
      "           0.9137,  0.9137,  0.9137,  0.8824,  0.9059,  0.6784,  0.7569,\n",
      "           0.2706, -1.0000, -0.9843, -1.0000, -1.0000, -1.0000, -1.0000],\n",
      "         [-1.0000, -1.0000, -1.0000, -1.0000, -1.0000, -0.9922, -1.0000,\n",
      "          -1.0000,  0.0902,  0.1451,  0.0196,  0.0588,  0.0588,  0.0745,\n",
      "          -0.0196, -0.0275, -0.0196, -0.0510, -0.0667, -0.1059,  0.0196,\n",
      "          -0.4039, -1.0000, -1.0000, -1.0000, -1.0000, -1.0000, -1.0000]]]), 0)\n"
     ]
    }
   ],
   "source": [
    "print(train_set[1])"
   ]
  },
  {
   "cell_type": "code",
   "execution_count": 21,
   "id": "f2884ccf-8152-4674-8ac9-a756bf0974b2",
   "metadata": {},
   "outputs": [],
   "source": [
    "text_labels=['t-shirt', 'trouser', 'pullover', 'dress', 'coat',\n",
    "'sandal', 'shirt', 'sneaker', 'bag', 'ankle boot']"
   ]
  },
  {
   "cell_type": "code",
   "execution_count": 22,
   "id": "b08ee165-6459-4ca4-a059-f36306eea6fc",
   "metadata": {},
   "outputs": [
    {
     "data": {
      "image/png": "[encoded data removed]",
      "text/plain": [
       "<Figure size 1600x800 with 24 Axes>"
      ]
     },
     "metadata": {},
     "output_type": "display_data"
    }
   ],
   "source": [
    "import matplotlib.pyplot as plt\n",
    "plt.figure(dpi=200,figsize=(8,4))\n",
    "for i in range(24):\n",
    "    ax=plt.subplot(3, 8, i + 1)\n",
    "    img=train_set[i][0]\n",
    "    img=img/2+0.5\n",
    "    img=img.reshape(28, 28)\n",
    "    plt.imshow(img,\n",
    "    cmap=\"binary\")\n",
    "    plt.axis('off')\n",
    "    plt.title(text_labels[train_set[i][1]],\n",
    "    fontsize=8)\n",
    "plt.show()"
   ]
  },
  {
   "cell_type": "code",
   "execution_count": 23,
   "id": "786b2072-8c15-43b4-b3bc-7568635551a1",
   "metadata": {},
   "outputs": [
    {
     "data": {
      "text/plain": [
       "2000"
      ]
     },
     "execution_count": 23,
     "metadata": {},
     "output_type": "execute_result"
    }
   ],
   "source": [
    "# creating dataset binary classification only \n",
    "binary_train_set = [x for x in train_set if x[1] in [0,9]]\n",
    "binary_test_set = [x for x in test_set if x[1] in [0,9]]\n",
    "n=len(binary_test_set)\n",
    "n"
   ]
  },
  {
   "cell_type": "code",
   "execution_count": 24,
   "id": "7e6b4b82-af66-49f6-a2c0-a52b0624ca74",
   "metadata": {},
   "outputs": [],
   "source": [
    "batch_sz = 64\n",
    "binary_train_loader = torch.utils.data.DataLoader(binary_train_set,batch_size=batch_sz,shuffle=True)\n",
    "binary_test_loader = torch.utils.data.DataLoader(binary_test_set,batch_size=batch_sz,shuffle=True)"
   ]
  },
  {
   "cell_type": "code",
   "execution_count": 25,
   "id": "cd427914-4c3e-4184-b638-de671b6e5174",
   "metadata": {},
   "outputs": [],
   "source": [
    "# Building and training a binary classification model\n",
    "device = \"cuda\" if torch.cuda.is_available() else \"cpu\"\n",
    "\n",
    "binary_model = nn.Sequential(\n",
    "    nn.Linear(28*28,256),\n",
    "    nn.ReLU(),\n",
    "    nn.Linear(256,128),\n",
    "    nn.ReLU(),\n",
    "    nn.Linear(128,32),\n",
    "    nn.ReLU(),\n",
    "    nn.Linear(32,1),\n",
    "    nn.Dropout(p=0.25),\n",
    "    nn.Sigmoid()\n",
    ").to(device)"
   ]
  },
  {
   "cell_type": "code",
   "execution_count": 26,
   "id": "4c5199b3-494b-4625-b6c6-a6fc7c1b2291",
   "metadata": {},
   "outputs": [],
   "source": [
    "lr=0.01\n",
    "optimizer = torch.optim.Adam(binary_model.parameters(),lr=lr)\n",
    "loss_fn =nn.BCELoss()"
   ]
  },
  {
   "cell_type": "code",
   "execution_count": 27,
   "id": "94ad2ac3-f408-4ac0-9da1-03afd7aa13a2",
   "metadata": {},
   "outputs": [
    {
     "name": "stdout",
     "output_type": "stream",
     "text": [
      "at epoch:0 loss is 0.19262784719467163\n",
      "at epoch:10 loss is 0.7734785676002502\n",
      "at epoch:20 loss is 0.8235897421836853\n",
      "at epoch:30 loss is 0.7844628691673279\n",
      "at epoch:40 loss is 0.84833163022995\n"
     ]
    }
   ],
   "source": [
    "# training \n",
    "epoch=50\n",
    "for i in range(epoch):\n",
    "    tloss=0\n",
    "    for n,(imgs,labels) in enumerate(binary_train_loader):\n",
    "        imgs=imgs.reshape(-1,28*28)\n",
    "        imgs=imgs.to(device)\n",
    "        labels=torch.FloatTensor([x if x==0 else 1 for x in labels])\n",
    "        labels=labels.reshape(-1,1).to(device)\n",
    "        preds=binary_model(imgs)\n",
    "        loss = loss_fn(preds,labels)\n",
    "        optimizer.zero_grad()\n",
    "        loss.backward()\n",
    "        optimizer.step()\n",
    "        tloss+=loss.detach()\n",
    "    tloss=tloss/n\n",
    "    if i%10==0:\n",
    "        print(f\"at epoch:{i} loss is {tloss}\")\n",
    "        "
   ]
  },
  {
   "cell_type": "code",
   "execution_count": 28,
   "id": "082dc643-c146-45f3-8975-0737789db985",
   "metadata": {},
   "outputs": [
    {
     "name": "stdout",
     "output_type": "stream",
     "text": [
      "the accuracy of the predictions is 0.87255859375\n"
     ]
    }
   ],
   "source": [
    "\n",
    "results=[]\n",
    "for imgs,labels in binary_test_loader:    \n",
    "    imgs=imgs.reshape(-1,28*28).to(device)\n",
    "    labels=torch.FloatTensor([x if x==0 else 1 for x in labels])\n",
    "    labels=(labels).reshape(-1,1).to(device)\n",
    "    preds=binary_model(imgs)\n",
    "    pred10=torch.where(preds>0.5,1,0)\n",
    "    correct=(pred10==labels)    \n",
    "    results.append(correct.detach().cpu().numpy().mean())    \n",
    "accuracy=np.array(results).mean()    \n",
    "print(f\"the accuracy of the predictions is {accuracy}\")     "
   ]
  },
  {
   "cell_type": "markdown",
   "id": "07a989e7-f5de-421c-a918-bc09be8fbb38",
   "metadata": {},
   "source": [
    "## Multicategory classification"
   ]
  },
  {
   "cell_type": "code",
   "execution_count": 29,
   "id": "c51adc33-3f68-4b1d-bc18-471ce78e4b8d",
   "metadata": {},
   "outputs": [],
   "source": [
    "train_set,val_set=torch.utils.data.random_split(train_set,[50000,10000])"
   ]
  },
  {
   "cell_type": "code",
   "execution_count": 31,
   "id": "f3aab687-2f82-41c3-9b42-cfa599a3071c",
   "metadata": {},
   "outputs": [],
   "source": [
    "train_loader=torch.utils.data.DataLoader(\n",
    "train_set,\n",
    "batch_size=batch_sz,\n",
    "shuffle=True)\n",
    "val_loader=torch.utils.data.DataLoader(\n",
    "val_set,\n",
    "batch_size=batch_sz,\n",
    "shuffle=True)\n",
    "test_loader=torch.utils.data.DataLoader(\n",
    "test_set,\n",
    "batch_size=batch_sz,\n",
    "shuffle=True)"
   ]
  },
  {
   "cell_type": "code",
   "execution_count": 34,
   "id": "bd08165a-2ab6-422d-8b91-bc2c16b4e228",
   "metadata": {},
   "outputs": [],
   "source": [
    "class EarlyStop:\n",
    "    def __init__(self, patience=10):\n",
    "        self.patience = patience\n",
    "        self.steps = 0\n",
    "        self.min_loss = float('inf')\n",
    "    def stop(self, val_loss):\n",
    "        if val_loss < self.min_loss:\n",
    "            self.min_loss = val_loss\n",
    "            self.steps = 0\n",
    "        elif val_loss >= self.min_loss:\n",
    "            self.steps += 1\n",
    "        if self.steps >= self.patience:\n",
    "            return True\n",
    "        else:\n",
    "            return False\n",
    "stopper=EarlyStop()"
   ]
  },
  {
   "cell_type": "code",
   "execution_count": 35,
   "id": "22e759b7-aa45-4c85-8a00-422094fd6fd1",
   "metadata": {},
   "outputs": [],
   "source": [
    "model=nn.Sequential(\n",
    "nn.Linear(28*28,256),\n",
    "nn.ReLU(),\n",
    "nn.Linear(256,128),\n",
    "nn.ReLU(),\n",
    "nn.Linear(128,64),\n",
    "nn.ReLU(),\n",
    "nn.Linear(64,10)\n",
    ").to(device)"
   ]
  },
  {
   "cell_type": "code",
   "execution_count": 36,
   "id": "55757719-153d-4b2f-a56f-67396e5d44d8",
   "metadata": {},
   "outputs": [],
   "source": [
    "lr=0.001\n",
    "optimizer=torch.optim.Adam(model.parameters(),lr=lr)\n",
    "loss_fn=nn.CrossEntropyLoss()"
   ]
  },
  {
   "cell_type": "code",
   "execution_count": 37,
   "id": "4a158a87-84d2-4f15-8b1f-7b34e3c36ecc",
   "metadata": {},
   "outputs": [],
   "source": [
    "#define the train_epoch()\n",
    "def train_epoch():\n",
    "    tloss=0\n",
    "    for n,(imgs,labels) in enumerate(train_loader):\n",
    "        imgs=imgs.reshape(-1,28*28).to(device)\n",
    "        labels=labels.reshape(-1,).to(device)\n",
    "        preds=model(imgs)\n",
    "        loss=loss_fn(preds,labels)\n",
    "        optimizer.zero_grad()\n",
    "        loss.backward()\n",
    "        optimizer.step()\n",
    "        tloss+=loss.detach()\n",
    "    return tloss/n"
   ]
  },
  {
   "cell_type": "code",
   "execution_count": 38,
   "id": "3b61af7b-9579-48c6-aa66-b3adc8d72698",
   "metadata": {},
   "outputs": [],
   "source": [
    "def val_epoch():\n",
    "    vloss=0\n",
    "    for n,(imgs,labels) in enumerate(val_loader):\n",
    "        imgs=imgs.reshape(-1,28*28).to(device)\n",
    "        labels=labels.reshape(-1,).to(device)\n",
    "        preds=model(imgs)\n",
    "        loss=loss_fn(preds,labels)\n",
    "        vloss+=loss.detach()\n",
    "    return vloss/n"
   ]
  },
  {
   "cell_type": "code",
   "execution_count": 39,
   "id": "2f8f1087-b4fe-4391-bfa8-84d08ead034c",
   "metadata": {},
   "outputs": [
    {
     "name": "stdout",
     "output_type": "stream",
     "text": [
      "at epoch 1, tloss is 0.5378468632698059, vloss is 0.43655380606651306\n",
      "at epoch 2, tloss is 0.39041852951049805, vloss is 0.3937426209449768\n",
      "at epoch 3, tloss is 0.34680625796318054, vloss is 0.3852004408836365\n",
      "at epoch 4, tloss is 0.317130446434021, vloss is 0.3521409034729004\n",
      "at epoch 5, tloss is 0.2996053993701935, vloss is 0.3635830581188202\n",
      "at epoch 6, tloss is 0.28405728936195374, vloss is 0.35124433040618896\n",
      "at epoch 7, tloss is 0.26898741722106934, vloss is 0.3339572846889496\n",
      "at epoch 8, tloss is 0.254583477973938, vloss is 0.35845938324928284\n",
      "at epoch 9, tloss is 0.2425452172756195, vloss is 0.35536983609199524\n",
      "at epoch 10, tloss is 0.2319546937942505, vloss is 0.3450913727283478\n",
      "at epoch 11, tloss is 0.22352446615695953, vloss is 0.36095699667930603\n",
      "at epoch 12, tloss is 0.21315035223960876, vloss is 0.3672836422920227\n",
      "at epoch 13, tloss is 0.20467986166477203, vloss is 0.3493744432926178\n",
      "at epoch 14, tloss is 0.1941368281841278, vloss is 0.36304306983947754\n",
      "at epoch 15, tloss is 0.18460476398468018, vloss is 0.3353383243083954\n",
      "at epoch 16, tloss is 0.17822986841201782, vloss is 0.3588542938232422\n",
      "at epoch 17, tloss is 0.1727043092250824, vloss is 0.38327234983444214\n"
     ]
    }
   ],
   "source": [
    "for i in range(1,101):\n",
    "    tloss=train_epoch()\n",
    "    vloss=val_epoch()\n",
    "    print(f\"at epoch {i}, tloss is {tloss}, vloss is {vloss}\")\n",
    "    if stopper.stop(vloss)==True:\n",
    "        break"
   ]
  },
  {
   "cell_type": "code",
   "execution_count": 40,
   "id": "7bd77853-84fa-4aeb-b4cd-255c93df3938",
   "metadata": {},
   "outputs": [
    {
     "data": {
      "image/png": "[encoded data removed]",
      "text/plain": [
       "<Figure size 1500x300 with 5 Axes>"
      ]
     },
     "metadata": {},
     "output_type": "display_data"
    }
   ],
   "source": [
    "plt.figure(dpi=300,figsize=(5,1))\n",
    "for i in range(5):\n",
    "    ax=plt.subplot(1,5, i + 1)\n",
    "    img=test_set[i][0]\n",
    "    label=test_set[i][1]\n",
    "    img=img/2+0.5\n",
    "    img=img.reshape(28, 28)\n",
    "    plt.imshow(img, cmap=\"binary\")\n",
    "    plt.axis('off')\n",
    "    plt.title(text_labels[label]+f\"; {label}\", fontsize=8)\n",
    "plt.show()"
   ]
  },
  {
   "cell_type": "code",
   "execution_count": 42,
   "id": "947ca785-7fcc-47aa-8392-eec0e62b95e1",
   "metadata": {},
   "outputs": [
    {
     "name": "stdout",
     "output_type": "stream",
     "text": [
      "the accuracy of the predictions is 0.8836584394904459\n"
     ]
    }
   ],
   "source": [
    "# alculate the accuracy of the predictions on the whole test dataset.\n",
    "results=[]\n",
    "for imgs,labels in test_loader:\n",
    "    imgs=imgs.reshape(-1,28*28).to(device)\n",
    "    labels=(labels).reshape(-1,).to(device)\n",
    "    preds=model(imgs)\n",
    "    pred10=torch.argmax(preds,dim=1)\n",
    "    correct=(pred10==labels)\n",
    "    results.append(correct.detach().cpu().numpy().mean())\n",
    "accuracy=np.array(results).mean()\n",
    "print(f\"the accuracy of the predictions is {accuracy}\")"
   ]
  },
  {
   "cell_type": "code",
   "execution_count": null,
   "id": "a21637f7-2315-4a59-93f0-2f276f7bb3f0",
   "metadata": {},
   "outputs": [],
   "source": []
  }
 ],
 "metadata": {
  "kernelspec": {
   "display_name": "Python 3 (ipykernel)",
   "language": "python",
   "name": "python3"
  },
  "language_info": {
   "codemirror_mode": {
    "name": "ipython",
    "version": 3
   },
   "file_extension": ".py",
   "mimetype": "text/x-python",
   "name": "python",
   "nbconvert_exporter": "python",
   "pygments_lexer": "ipython3",
   "version": "3.12.8"
  }
 },
 "nbformat": 4,
 "nbformat_minor": 5
}
